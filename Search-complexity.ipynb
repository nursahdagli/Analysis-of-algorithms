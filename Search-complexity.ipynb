{
 "cells": [
  {
   "cell_type": "code",
   "execution_count": 1,
   "metadata": {},
   "outputs": [],
   "source": [
    "def check_prime(n): #Asal sayı complexity -> best case O(1), worst_case O(n)\n",
    "    s=0\n",
    "    if n!=1:\n",
    "        for factor in range(2,n):\n",
    "            s=s+1\n",
    "            if n%factor==0:\n",
    "                return False,s\n",
    "    else:\n",
    "        return False,s\n",
    "    return True,s"
   ]
  },
  {
   "cell_type": "code",
   "execution_count": 2,
   "metadata": {},
   "outputs": [
    {
     "data": {
      "text/plain": [
       "((False, 1), (True, 11))"
      ]
     },
     "execution_count": 2,
     "metadata": {},
     "output_type": "execute_result"
    }
   ],
   "source": [
    "check_prime(10),check_prime(13)"
   ]
  },
  {
   "cell_type": "code",
   "execution_count": 3,
   "metadata": {},
   "outputs": [
    {
     "name": "stdout",
     "output_type": "stream",
     "text": [
      "10 (False, 1)\n",
      "13 (True, 11)\n",
      "23 (True, 21)\n",
      "310 (False, 1)\n",
      "33 (False, 2)\n",
      "49 (False, 6)\n"
     ]
    }
   ],
   "source": [
    "numbers=[10,13,23,310,33,49]\n",
    "for num in numbers:\n",
    "    print(num,check_prime(num))"
   ]
  },
  {
   "cell_type": "code",
   "execution_count": 4,
   "metadata": {},
   "outputs": [],
   "source": [
    "def my_search(numbers,x):\n",
    "    s=0\n",
    "    for i in numbers:\n",
    "        s=s+1\n",
    "        if i==x:\n",
    "            return True,s\n",
    "    return False,s"
   ]
  },
  {
   "cell_type": "code",
   "execution_count": 5,
   "metadata": {},
   "outputs": [
    {
     "data": {
      "text/plain": [
       "(True, 1)"
      ]
     },
     "execution_count": 5,
     "metadata": {},
     "output_type": "execute_result"
    }
   ],
   "source": [
    "numbers=[10,13,23,310,33,49]\n",
    "x=10\n",
    "my_search(numbers,x)"
   ]
  },
  {
   "cell_type": "code",
   "execution_count": 6,
   "metadata": {},
   "outputs": [],
   "source": [
    "import random"
   ]
  },
  {
   "cell_type": "code",
   "execution_count": 7,
   "metadata": {},
   "outputs": [],
   "source": [
    "def get_my_list(s):\n",
    "    list_1=[]\n",
    "    for i in range (s):\n",
    "        t=int(random.uniform(0,1000))\n",
    "        list_1.append(t)\n",
    "    return list_1"
   ]
  },
  {
   "cell_type": "code",
   "execution_count": 8,
   "metadata": {},
   "outputs": [],
   "source": [
    "def get_my_number():\n",
    "    return int(random.uniform(0,1000))"
   ]
  },
  {
   "cell_type": "code",
   "execution_count": 9,
   "metadata": {},
   "outputs": [],
   "source": [
    "my_list=get_my_list(10)\n",
    "my_number=get_my_number()"
   ]
  },
  {
   "cell_type": "code",
   "execution_count": 10,
   "metadata": {},
   "outputs": [
    {
     "data": {
      "text/plain": [
       "[697, 295, 981, 634, 621, 353, 820, 321, 436, 299]"
      ]
     },
     "execution_count": 10,
     "metadata": {},
     "output_type": "execute_result"
    }
   ],
   "source": [
    "my_list"
   ]
  },
  {
   "cell_type": "code",
   "execution_count": 11,
   "metadata": {},
   "outputs": [
    {
     "data": {
      "text/plain": [
       "791"
      ]
     },
     "execution_count": 11,
     "metadata": {},
     "output_type": "execute_result"
    }
   ],
   "source": [
    "my_number"
   ]
  },
  {
   "cell_type": "code",
   "execution_count": 12,
   "metadata": {},
   "outputs": [
    {
     "data": {
      "text/plain": [
       "10"
      ]
     },
     "execution_count": 12,
     "metadata": {},
     "output_type": "execute_result"
    }
   ],
   "source": [
    "my_search(my_list,my_number)[1]"
   ]
  },
  {
   "cell_type": "code",
   "execution_count": 16,
   "metadata": {},
   "outputs": [
    {
     "name": "stdout",
     "output_type": "stream",
     "text": [
      "LİSTE BOYUTU :  1500\n",
      "ortalama deger: 625.8\n"
     ]
    }
   ],
   "source": [
    "print(\"LİSTE BOYUTU : \",len(my_list))\n",
    "my_search_numbers=[2,45,78,-34,55]\n",
    "t=0\n",
    "for x in my_search_numbers:\n",
    "    t_1=my_search(my_list,x)[1]\n",
    "    t=t+t_1\n",
    "a,b=t,t/len(my_search_numbers)\n",
    "print(\"ortalama deger:\",b)"
   ]
  },
  {
   "cell_type": "code",
   "execution_count": 17,
   "metadata": {},
   "outputs": [],
   "source": [
    "def my_search_complexity(numOfıtem=10,numOfTrials=5):\n",
    "    my_list=get_my_list(numOfıtem)\n",
    "    my_search_number=get_my_list(numOfTrials)\n",
    "\n",
    "    print(\"LİSTE BOYUTU : \",len(my_list))\n",
    "\n",
    "    t=0\n",
    "    for x in my_search_numbers:\n",
    "        t_1=my_search(my_list,x)[1]\n",
    "        t=t+t_1\n",
    " \n",
    "    a,b=t,t/len(my_search_numbers)\n",
    "    print(\"ortalama deger : \",b)"
   ]
  },
  {
   "cell_type": "code",
   "execution_count": 18,
   "metadata": {},
   "outputs": [
    {
     "name": "stdout",
     "output_type": "stream",
     "text": [
      "LİSTE BOYUTU :  10\n",
      "ortalama deger :  10.0\n",
      "LİSTE BOYUTU :  1000\n",
      "ortalama deger :  796.4\n"
     ]
    }
   ],
   "source": [
    "my_search_complexity(10,5)\n",
    "my_search_complexity(1000,900)"
   ]
  },
  {
   "cell_type": "code",
   "execution_count": null,
   "metadata": {},
   "outputs": [],
   "source": []
  }
 ],
 "metadata": {
  "kernelspec": {
   "display_name": "Python 3",
   "language": "python",
   "name": "python3"
  },
  "language_info": {
   "codemirror_mode": {
    "name": "ipython",
    "version": 3
   },
   "file_extension": ".py",
   "mimetype": "text/x-python",
   "name": "python",
   "nbconvert_exporter": "python",
   "pygments_lexer": "ipython3",
   "version": "3.7.6"
  }
 },
 "nbformat": 4,
 "nbformat_minor": 4
}
