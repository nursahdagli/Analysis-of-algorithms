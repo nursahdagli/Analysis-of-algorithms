{
 "cells": [
  {
   "cell_type": "code",
   "execution_count": 44,
   "metadata": {},
   "outputs": [
    {
     "data": {
      "text/plain": [
       "[1, 4, -3, 1, 3, 2, 5, -3, -5, -4]"
      ]
     },
     "execution_count": 44,
     "metadata": {},
     "output_type": "execute_result"
    }
   ],
   "source": [
    "import random\n",
    "def get_n_random_numbers(n=10,min_=-5,max_=5):\n",
    "    numbers=[]    \n",
    "    for i in range(n):        \n",
    "        numbers.append(random.randint(min_,max_))    \n",
    "    return numbers    \n",
    "get_n_random_numbers() "
   ]
  },
  {
   "cell_type": "code",
   "execution_count": 45,
   "metadata": {},
   "outputs": [],
   "source": [
    "def my_linear_search(my_list,item_search): #complexity=O(n)\n",
    "    found=(-1,-1)   # default, eğer listede yoksa     \n",
    "    n=len(my_list)    \n",
    "    for indis in range(n):        \n",
    "        if my_list[indis]==item_search:            \n",
    "            found=(my_list[indis],indis)   # listede bulundu, return bulunn sayı, indisi             \n",
    "            break # uncomment for last found   # break olmazsa best case worst case olmaz,break olursa O(1),O(n) olabilir \n",
    "    return found"
   ]
  },
  {
   "cell_type": "code",
   "execution_count": 99,
   "metadata": {},
   "outputs": [],
   "source": [
    "def my_experimental_study_linear(iterNum=50):\n",
    "    \n",
    "    cost=[]\n",
    "    x_low=-100\n",
    "    x_high=100\n",
    "    array_size=40\n",
    "    print('Array size : ',array_size)\n",
    "    for iter in range(iterNum):\n",
    "        my_list=get_n_random_numbers(array_size,x_low,x_high)\n",
    "        my_search_item=get_n_random_numbers(1,x_low,x_high)\n",
    "        my_search_item=my_search_item[0]\n",
    "        \n",
    "        result=my_linear_search(my_list,my_search_item)\n",
    "        if(result[1]==-1):\n",
    "            cost.append(array_size)\n",
    "        else:\n",
    "            cost.append(result[1])\n",
    "        print(result)\n",
    "    return cost"
   ]
  },
  {
   "cell_type": "code",
   "execution_count": 100,
   "metadata": {},
   "outputs": [
    {
     "name": "stdout",
     "output_type": "stream",
     "text": [
      "Array size :  40\n",
      "(-1, -1)\n",
      "(-1, -1)\n",
      "(-1, -1)\n",
      "(-1, -1)\n",
      "(-1, -1)\n",
      "(-1, -1)\n",
      "(-1, -1)\n",
      "(-1, -1)\n",
      "(-1, -1)\n",
      "(6, 24)\n",
      "(-1, -1)\n",
      "(-1, -1)\n",
      "(-1, -1)\n",
      "(-1, -1)\n",
      "(-1, -1)\n",
      "(-1, -1)\n",
      "(80, 15)\n",
      "(-1, -1)\n",
      "(-1, -1)\n",
      "(-1, -1)\n",
      "(-12, 23)\n",
      "(-1, -1)\n",
      "(-1, -1)\n",
      "(-1, -1)\n",
      "(-1, -1)\n",
      "(-1, -1)\n",
      "(-31, 7)\n",
      "(-1, -1)\n",
      "(-1, -1)\n",
      "(-51, 14)\n",
      "(-1, -1)\n",
      "(-1, -1)\n",
      "(-1, -1)\n",
      "(-1, -1)\n",
      "(-1, -1)\n",
      "(-1, -1)\n",
      "(-1, -1)\n",
      "(-1, -1)\n",
      "(-1, -1)\n",
      "(-1, -1)\n",
      "(-1, -1)\n",
      "(-1, -1)\n",
      "(-1, -1)\n",
      "(-1, -1)\n",
      "(-1, -1)\n",
      "(-1, -1)\n",
      "(-1, -1)\n",
      "(-1, -1)\n",
      "(79, 36)\n",
      "(-1, -1)\n"
     ]
    }
   ],
   "source": [
    "c_s_l=my_experimental_study_linear()"
   ]
  },
  {
   "cell_type": "code",
   "execution_count": 101,
   "metadata": {},
   "outputs": [],
   "source": [
    "import matplotlib.pyplot as plt"
   ]
  },
  {
   "cell_type": "code",
   "execution_count": 102,
   "metadata": {},
   "outputs": [
    {
     "data": {
      "text/plain": [
       "[<matplotlib.lines.Line2D at 0x239f0dd7788>]"
      ]
     },
     "execution_count": 102,
     "metadata": {},
     "output_type": "execute_result"
    },
    {
     "data": {
      "image/png": "[encoded data removed]",
      "text/plain": [
       "<Figure size 432x288 with 1 Axes>"
      ]
     },
     "metadata": {
      "needs_background": "light"
     },
     "output_type": "display_data"
    }
   ],
   "source": [
    "c_s_l\n",
    "plt.plot(c_s_l)"
   ]
  },
  {
   "cell_type": "code",
   "execution_count": 89,
   "metadata": {},
   "outputs": [],
   "source": [
    "def my_binary_search(my_list, item_search):    \n",
    "    found=(-1,-1,0)    \n",
    "    low = 0    \n",
    "    high = len(my_list) - 1\n",
    "    s=0\n",
    "    while low <= high:        \n",
    "        mid = (low + high) // 2\n",
    "        print(low,high,mid)\n",
    "        s=s+1\n",
    "        \n",
    "        if my_list[mid] == item_search:\n",
    "            return my_list[mid],mid,s        \n",
    "        elif my_list[mid] > item_search:            \n",
    "            high = mid - 1        \n",
    "        else:            \n",
    "            low = mid + 1\n",
    "    print(s)\n",
    "    return found[0],found[1],s  # None\n"
   ]
  },
  {
   "cell_type": "code",
   "execution_count": 90,
   "metadata": {},
   "outputs": [],
   "source": [
    "def my_bubble_sort(my_list):    \n",
    "    n=len(my_list)    \n",
    "    #print(my_list)    \n",
    "    for i in range(n-1,-1,-1):        \n",
    "        for j in range(0,i):            \n",
    "            if not(my_list[j]<my_list[j+1]):                \n",
    "                # print(\"swap işlemi\")                \n",
    "                temp=my_list[j]                \n",
    "                my_list[j]=my_list[j+1]                \n",
    "                my_list[j+1]=temp    \n",
    "    return my_list\n"
   ]
  },
  {
   "cell_type": "code",
   "execution_count": 91,
   "metadata": {},
   "outputs": [
    {
     "data": {
      "text/plain": [
       "[-8, -5, 7, -7]"
      ]
     },
     "execution_count": 91,
     "metadata": {},
     "output_type": "execute_result"
    }
   ],
   "source": [
    "x_low=-10\n",
    "x_high=10\n",
    "array_size=4\n",
    "my_list=get_n_random_numbers(array_size,x_low,x_high)\n",
    "my_list"
   ]
  },
  {
   "cell_type": "code",
   "execution_count": 92,
   "metadata": {},
   "outputs": [
    {
     "data": {
      "text/plain": [
       "[-8, -7, -5, 7]"
      ]
     },
     "execution_count": 92,
     "metadata": {},
     "output_type": "execute_result"
    }
   ],
   "source": [
    "my_list=my_bubble_sort(my_list)\n",
    "my_list"
   ]
  },
  {
   "cell_type": "code",
   "execution_count": 93,
   "metadata": {},
   "outputs": [
    {
     "data": {
      "text/plain": [
       "0"
      ]
     },
     "execution_count": 93,
     "metadata": {},
     "output_type": "execute_result"
    }
   ],
   "source": [
    "my_search_item=get_n_random_numbers(1,x_low,x_high)\n",
    "my_search_item\n",
    "my_search_item=my_search_item[0]\n",
    "my_search_item"
   ]
  },
  {
   "cell_type": "code",
   "execution_count": 94,
   "metadata": {},
   "outputs": [
    {
     "name": "stdout",
     "output_type": "stream",
     "text": [
      "0 3 1\n",
      "2 3 2\n",
      "3 3 3\n",
      "3\n"
     ]
    },
    {
     "data": {
      "text/plain": [
       "(-1, -1, 3)"
      ]
     },
     "execution_count": 94,
     "metadata": {},
     "output_type": "execute_result"
    }
   ],
   "source": [
    "my_binary_search(my_list,my_search_item)"
   ]
  },
  {
   "cell_type": "code",
   "execution_count": 103,
   "metadata": {},
   "outputs": [],
   "source": [
    "def my_experimental_study_binary(iterNum=50):\n",
    "    \n",
    "    cost=[]\n",
    "    x_low=-100\n",
    "    x_high=100\n",
    "    array_size=40\n",
    "    print('Array size : ',array_size)\n",
    "    for iter in range(iterNum):\n",
    "        my_list=get_n_random_numbers(array_size,x_low,x_high)\n",
    "        my_list=my_bubble_sort(my_list)\n",
    "        \n",
    "        my_search_item=get_n_random_numbers(1,x_low,x_high)\n",
    "        my_search_item=my_search_item[0]\n",
    "        \n",
    "        result=my_binary_search(my_list,my_search_item)\n",
    "        cost.append(result[2])\n",
    "        \n",
    "        #        result=my_binary_search(my_list,my_search_item)\n",
    "        #        if(result[1]==-1):\n",
    "        #            cost.append(array_size)\n",
    "        #        else:\n",
    "        #            cost.append(result[1])\n",
    "        #        print(result)\n",
    "    return cost"
   ]
  },
  {
   "cell_type": "code",
   "execution_count": 107,
   "metadata": {},
   "outputs": [
    {
     "name": "stdout",
     "output_type": "stream",
     "text": [
      "Array size :  40\n",
      "0 39 19\n",
      "20 39 29\n",
      "30 39 34\n",
      "35 39 37\n",
      "38 39 38\n",
      "39 39 39\n",
      "0 39 19\n",
      "20 39 29\n",
      "30 39 34\n",
      "35 39 37\n",
      "35 36 35\n",
      "5\n",
      "0 39 19\n",
      "20 39 29\n",
      "30 39 34\n",
      "35 39 37\n",
      "35 36 35\n",
      "5\n",
      "0 39 19\n",
      "20 39 29\n",
      "30 39 34\n",
      "30 33 31\n",
      "32 33 32\n",
      "5\n",
      "0 39 19\n",
      "20 39 29\n",
      "20 28 24\n",
      "25 28 26\n",
      "25 25 25\n",
      "5\n",
      "0 39 19\n",
      "0 18 9\n",
      "0 8 4\n",
      "0 3 1\n",
      "2 3 2\n",
      "5\n",
      "0 39 19\n",
      "0 18 9\n",
      "10 18 14\n",
      "10 13 11\n",
      "12 13 12\n",
      "5\n",
      "0 39 19\n",
      "20 39 29\n",
      "30 39 34\n",
      "30 33 31\n",
      "30 30 30\n",
      "5\n",
      "0 39 19\n",
      "20 39 29\n",
      "20 28 24\n",
      "25 28 26\n",
      "25 25 25\n",
      "5\n",
      "0 39 19\n",
      "20 39 29\n",
      "20 28 24\n",
      "20 23 21\n",
      "22 23 22\n",
      "5\n",
      "0 39 19\n",
      "0 18 9\n",
      "0 8 4\n",
      "0 3 1\n",
      "0 0 0\n",
      "5\n",
      "0 39 19\n",
      "20 39 29\n",
      "30 39 34\n",
      "35 39 37\n",
      "38 39 38\n",
      "39 39 39\n",
      "6\n",
      "0 39 19\n",
      "0 18 9\n",
      "10 18 14\n",
      "15 18 16\n",
      "15 15 15\n",
      "0 39 19\n",
      "20 39 29\n",
      "20 28 24\n",
      "20 23 21\n",
      "22 23 22\n",
      "23 23 23\n",
      "6\n",
      "0 39 19\n",
      "20 39 29\n",
      "30 39 34\n",
      "30 33 31\n",
      "30 30 30\n",
      "5\n",
      "0 39 19\n",
      "20 39 29\n",
      "20 28 24\n",
      "20 23 21\n",
      "22 23 22\n",
      "5\n",
      "0 39 19\n",
      "0 18 9\n",
      "10 18 14\n",
      "15 18 16\n",
      "17 18 17\n",
      "18 18 18\n",
      "6\n",
      "0 39 19\n",
      "20 39 29\n",
      "20 28 24\n",
      "25 28 26\n",
      "25 25 25\n",
      "5\n",
      "0 39 19\n",
      "20 39 29\n",
      "30 39 34\n",
      "35 39 37\n",
      "38 39 38\n",
      "39 39 39\n",
      "6\n",
      "0 39 19\n",
      "20 39 29\n",
      "20 28 24\n",
      "25 28 26\n",
      "27 28 27\n",
      "5\n",
      "0 39 19\n",
      "0 18 9\n",
      "0 8 4\n",
      "5 8 6\n",
      "7 8 7\n",
      "8 8 8\n",
      "6\n",
      "0 39 19\n",
      "20 39 29\n",
      "30 39 34\n",
      "35 39 37\n",
      "38 39 38\n",
      "39 39 39\n",
      "0 39 19\n",
      "0 18 9\n",
      "10 18 14\n",
      "10 13 11\n",
      "12 13 12\n",
      "13 13 13\n",
      "6\n",
      "0 39 19\n",
      "20 39 29\n",
      "20 28 24\n",
      "20 23 21\n",
      "22 23 22\n",
      "23 23 23\n",
      "6\n",
      "0 39 19\n",
      "0 18 9\n",
      "10 18 14\n",
      "10 13 11\n",
      "10 10 10\n",
      "5\n",
      "0 39 19\n",
      "20 39 29\n",
      "30 39 34\n",
      "30 33 31\n",
      "30 30 30\n",
      "5\n",
      "0 39 19\n",
      "20 39 29\n",
      "20 28 24\n",
      "25 28 26\n",
      "27 28 27\n",
      "28 28 28\n",
      "6\n",
      "0 39 19\n",
      "20 39 29\n",
      "30 39 34\n",
      "30 33 31\n",
      "32 33 32\n",
      "5\n",
      "0 39 19\n",
      "20 39 29\n",
      "30 39 34\n",
      "35 39 37\n",
      "35 36 35\n",
      "36 36 36\n",
      "6\n",
      "0 39 19\n",
      "20 39 29\n",
      "30 39 34\n",
      "35 39 37\n",
      "35 36 35\n",
      "5\n",
      "0 39 19\n",
      "0 18 9\n",
      "10 18 14\n",
      "10 13 11\n",
      "10 10 10\n",
      "5\n",
      "0 39 19\n",
      "20 39 29\n",
      "20 28 24\n",
      "25 28 26\n",
      "25 25 25\n",
      "5\n",
      "0 39 19\n",
      "0 18 9\n",
      "10 18 14\n",
      "15 18 16\n",
      "15 15 15\n",
      "5\n",
      "0 39 19\n",
      "20 39 29\n",
      "30 39 34\n",
      "35 39 37\n",
      "38 39 38\n",
      "5\n",
      "0 39 19\n",
      "20 39 29\n",
      "30 39 34\n",
      "35 39 37\n",
      "38 39 38\n",
      "39 39 39\n",
      "6\n",
      "0 39 19\n",
      "20 39 29\n",
      "30 39 34\n",
      "35 39 37\n",
      "35 36 35\n",
      "5\n",
      "0 39 19\n",
      "0 18 9\n",
      "10 18 14\n",
      "10 13 11\n",
      "10 10 10\n",
      "5\n",
      "0 39 19\n",
      "20 39 29\n",
      "20 28 24\n",
      "25 28 26\n",
      "27 28 27\n",
      "28 28 28\n",
      "6\n",
      "0 39 19\n",
      "20 39 29\n",
      "30 39 34\n",
      "35 39 37\n",
      "35 36 35\n",
      "5\n",
      "0 39 19\n",
      "0 18 9\n",
      "10 18 14\n",
      "10 13 11\n",
      "12 13 12\n",
      "13 13 13\n",
      "6\n",
      "0 39 19\n",
      "20 39 29\n",
      "30 39 34\n",
      "30 33 31\n",
      "32 33 32\n",
      "33 33 33\n",
      "0 39 19\n",
      "20 39 29\n",
      "20 28 24\n",
      "25 28 26\n",
      "27 28 27\n",
      "5\n",
      "0 39 19\n",
      "20 39 29\n",
      "20 28 24\n",
      "20 23 21\n",
      "22 23 22\n",
      "23 23 23\n",
      "6\n",
      "0 39 19\n",
      "0 18 9\n",
      "0 8 4\n",
      "0 3 1\n",
      "2 3 2\n",
      "3 3 3\n",
      "6\n",
      "0 39 19\n",
      "0 18 9\n",
      "10 18 14\n",
      "10 13 11\n",
      "12 13 12\n",
      "13 13 13\n",
      "6\n",
      "0 39 19\n",
      "0 18 9\n",
      "0 8 4\n",
      "5 8 6\n",
      "7 8 7\n",
      "8 8 8\n",
      "6\n",
      "0 39 19\n",
      "0 18 9\n",
      "0 8 4\n",
      "5 8 6\n",
      "7 8 7\n",
      "5\n",
      "0 39 19\n",
      "0 18 9\n",
      "0 8 4\n",
      "5 8 6\n",
      "5 5 5\n",
      "5\n",
      "0 39 19\n",
      "20 39 29\n",
      "20 28 24\n",
      "25 28 26\n",
      "27 28 27\n",
      "28 28 28\n",
      "6\n",
      "0 39 19\n",
      "20 39 29\n",
      "20 28 24\n"
     ]
    }
   ],
   "source": [
    "c_s_b=my_experimental_study_binary()"
   ]
  },
  {
   "cell_type": "code",
   "execution_count": 108,
   "metadata": {},
   "outputs": [
    {
     "name": "stdout",
     "output_type": "stream",
     "text": [
      "Array size :  40\n",
      "(-1, -1)\n",
      "(-1, -1)\n",
      "(-1, 10)\n",
      "(-1, -1)\n",
      "(-95, 14)\n",
      "(-1, -1)\n",
      "(-84, 21)\n",
      "(-12, 13)\n",
      "(-7, 32)\n",
      "(-1, -1)\n",
      "(-1, -1)\n",
      "(-20, 2)\n",
      "(-1, -1)\n",
      "(-1, -1)\n",
      "(-93, 8)\n",
      "(-1, -1)\n",
      "(28, 5)\n",
      "(-1, -1)\n",
      "(-84, 15)\n",
      "(-1, -1)\n",
      "(-1, -1)\n",
      "(-1, -1)\n",
      "(-1, -1)\n",
      "(-29, 9)\n",
      "(-1, -1)\n",
      "(-1, -1)\n",
      "(-1, -1)\n",
      "(-85, 23)\n",
      "(-1, -1)\n",
      "(-1, -1)\n",
      "(-1, -1)\n",
      "(-50, 25)\n",
      "(-1, -1)\n",
      "(95, 23)\n",
      "(-1, -1)\n",
      "(-1, -1)\n",
      "(-1, -1)\n",
      "(-1, -1)\n",
      "(-1, -1)\n",
      "(-1, -1)\n",
      "(73, 10)\n",
      "(-1, -1)\n",
      "(-1, -1)\n",
      "(90, 26)\n",
      "(-18, 37)\n",
      "(-1, -1)\n",
      "(-1, -1)\n",
      "(-1, -1)\n",
      "(-2, 19)\n",
      "(-1, -1)\n"
     ]
    }
   ],
   "source": [
    "c_s_l=my_experimental_study_linear()"
   ]
  },
  {
   "cell_type": "code",
   "execution_count": 110,
   "metadata": {},
   "outputs": [
    {
     "data": {
      "image/png": "[encoded data removed]",
      "text/plain": [
       "<Figure size 432x288 with 2 Axes>"
      ]
     },
     "metadata": {
      "needs_background": "light"
     },
     "output_type": "display_data"
    }
   ],
   "source": [
    "plt.subplot(1,2,1), plt.plot(c_s_b)\n",
    "plt.subplot(1,2,2), plt.plot(c_s_l)\n",
    "plt.show()"
   ]
  }
 ],
 "metadata": {
  "kernelspec": {
   "display_name": "Python 3",
   "language": "python",
   "name": "python3"
  },
  "language_info": {
   "codemirror_mode": {
    "name": "ipython",
    "version": 3
   },
   "file_extension": ".py",
   "mimetype": "text/x-python",
   "name": "python",
   "nbconvert_exporter": "python",
   "pygments_lexer": "ipython3",
   "version": "3.7.6"
  }
 },
 "nbformat": 4,
 "nbformat_minor": 4
}
