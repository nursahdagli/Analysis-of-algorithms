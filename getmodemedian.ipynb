{
 "cells": [
  {
   "cell_type": "code",
   "execution_count": 26,
   "metadata": {},
   "outputs": [],
   "source": [
    "import random"
   ]
  },
  {
   "cell_type": "code",
   "execution_count": 27,
   "metadata": {},
   "outputs": [],
   "source": [
    "#random liste oluşturma\n",
    "def random_numbers(n,min,max):\n",
    "    numbers=[]\n",
    "    for i in range(n): \n",
    "        numbers.append(random.randint(min,max))\n",
    "    return numbers"
   ]
  },
  {
   "cell_type": "code",
   "execution_count": 28,
   "metadata": {},
   "outputs": [],
   "source": [
    "def getModeMedian(list_1): #total complexity -> O(n^2+n+n+1) ~ O(n^2)\n",
    "    n = len(list_1)\n",
    "    for i in range(n-1,-1,-1): #listeyi sıralama(bubble sort) complexity -> O(n^2+...) ~ O(n^2)\n",
    "        for j in range(0,i):\n",
    "            if list_1[j] > list_1[j+1] :\n",
    "                list_1[j], list_1[j+1] = list_1[j+1], list_1[j]\n",
    "    print('Sıralanmış liste : ',list_1)\n",
    "    \n",
    "    if(n%2==0): #median bulma complexity -> O(1)\n",
    "        median1=list_1[n//2]\n",
    "        median2=list_1[n//2 - 1]\n",
    "        median=(median1+median2)/2\n",
    "        \n",
    "    else:\n",
    "        median=list_1[n//2]\n",
    "    \n",
    "    counts={}\n",
    "    maxCounts=-1\n",
    "    for item in list_1: #Histogram bulma complexity -> O(n)\n",
    "        if (item in counts):\n",
    "            counts[item]=counts[item]+1\n",
    "        else:\n",
    "            counts[item]=1  \n",
    "    for key in counts.keys(): #Mod bulma complexity -> O(n)\n",
    "        if counts[key]>maxCounts:\n",
    "            maxCounts=counts[key]\n",
    "            mode=key\n",
    "    return median,mode"
   ]
  },
  {
   "cell_type": "code",
   "execution_count": 29,
   "metadata": {},
   "outputs": [
    {
     "name": "stdout",
     "output_type": "stream",
     "text": [
      "Sıralanmış liste :  [-2, 0, 0, 0, 0, 1, 1, 2, 2, 4]\n",
      "median: 0.5 mode: 0\n"
     ]
    }
   ],
   "source": [
    "list_1=random_numbers(10,-4,4)\n",
    "median,mode=getModeMedian(list_1)\n",
    "print(\"median: {} mode: {}\".format(mode,median))"
   ]
  },
  {
   "cell_type": "code",
   "execution_count": null,
   "metadata": {},
   "outputs": [],
   "source": []
  }
 ],
 "metadata": {
  "kernelspec": {
   "display_name": "Python 3",
   "language": "python",
   "name": "python3"
  },
  "language_info": {
   "codemirror_mode": {
    "name": "ipython",
    "version": 3
   },
   "file_extension": ".py",
   "mimetype": "text/x-python",
   "name": "python",
   "nbconvert_exporter": "python",
   "pygments_lexer": "ipython3",
   "version": "3.7.6"
  }
 },
 "nbformat": 4,
 "nbformat_minor": 4
}
