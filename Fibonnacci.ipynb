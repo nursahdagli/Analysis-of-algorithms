{
 "cells": [
  {
   "cell_type": "code",
   "execution_count": 1,
   "metadata": {},
   "outputs": [
    {
     "name": "stdout",
     "output_type": "stream",
     "text": [
      "0 0\n",
      "1 1\n",
      "2 1\n",
      "3 2\n",
      "4 3\n",
      "5 5\n",
      "6 8\n",
      "7 13\n",
      "8 21\n",
      "9 34\n",
      "10 55\n",
      "11 89\n",
      "12 144\n",
      "13 233\n",
      "14 377\n"
     ]
    }
   ],
   "source": [
    "def f_recursive(n): #complexity -> O(n)\n",
    "    if n<2:\n",
    "        return n\n",
    "    else:\n",
    "        return f_recursive(n-1)+f_recursive(n-2)\n",
    "for i in range(15):\n",
    "    print(i,f_recursive(i))"
   ]
  },
  {
   "cell_type": "code",
   "execution_count": 2,
   "metadata": {},
   "outputs": [
    {
     "name": "stdout",
     "output_type": "stream",
     "text": [
      "0 0\n",
      "1 1\n",
      "2 1\n",
      "3 2\n",
      "4 3\n",
      "5 5\n",
      "6 8\n",
      "7 13\n",
      "8 21\n",
      "9 34\n",
      "10 55\n",
      "11 89\n",
      "12 144\n",
      "13 233\n",
      "14 377\n"
     ]
    }
   ],
   "source": [
    "def f_loop(n): #complexity -> O(n)\n",
    "    if n<2:\n",
    "        return n\n",
    "    else:\n",
    "        a=0\n",
    "        b=1\n",
    "        c=a+b\n",
    "        s=2\n",
    "        while(s<n):\n",
    "            a=b\n",
    "            b=c\n",
    "            c=a+b\n",
    "            s=s+1\n",
    "        return c\n",
    "for i in range(15):\n",
    "    print(i,f_loop(i))"
   ]
  },
  {
   "cell_type": "code",
   "execution_count": 3,
   "metadata": {},
   "outputs": [
    {
     "name": "stdout",
     "output_type": "stream",
     "text": [
      "0 0\n",
      "1 1\n",
      "2 1\n",
      "3 2\n",
      "4 3\n",
      "5 5\n",
      "6 8\n",
      "7 13\n",
      "8 21\n",
      "9 34\n",
      "10 55\n",
      "11 89\n",
      "12 144\n",
      "13 233\n",
      "14 377\n"
     ]
    }
   ],
   "source": [
    "def function(a,b): #complexity -> O(logn)\n",
    "    if b==0:\n",
    "        return 1\n",
    "    if b==1:\n",
    "        return 1\n",
    "    else:\n",
    "        return function(a*a,b//2)\n",
    "for i in range(15):\n",
    "    print(i,f_loop(i))"
   ]
  }
 ],
 "metadata": {
  "kernelspec": {
   "display_name": "Python 3",
   "language": "python",
   "name": "python3"
  },
  "language_info": {
   "codemirror_mode": {
    "name": "ipython",
    "version": 3
   },
   "file_extension": ".py",
   "mimetype": "text/x-python",
   "name": "python",
   "nbconvert_exporter": "python",
   "pygments_lexer": "ipython3",
   "version": "3.7.6"
  }
 },
 "nbformat": 4,
 "nbformat_minor": 4
}
