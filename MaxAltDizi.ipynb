{
 "cells": [
  {
   "cell_type": "code",
   "execution_count": 27,
   "metadata": {},
   "outputs": [],
   "source": [
    "List_1=[4,-3,5,-2,-1,2,6,-2]"
   ]
  },
  {
   "cell_type": "code",
   "execution_count": 28,
   "metadata": {},
   "outputs": [],
   "source": [
    "#max değeri veren alt dizi\n",
    "def my_f_1(List_1=[4,-3,5,-2,-1,2,6,-2]): # complexity -> O(n^3)\n",
    "    s=0\n",
    "    n=len(List_1)\n",
    "    maxsum=0\n",
    "    for i in range(n):\n",
    "        for j in range(i,n):\n",
    "            t=0\n",
    "            for k in range(i,j):\n",
    "                t=t+List_1[k]\n",
    "                s=s+1\n",
    "            if t>maxsum:\n",
    "                maxsum=t\n",
    "    return maxsum,s"
   ]
  },
  {
   "cell_type": "code",
   "execution_count": 29,
   "metadata": {},
   "outputs": [
    {
     "data": {
      "text/plain": [
       "(11, 84)"
      ]
     },
     "execution_count": 29,
     "metadata": {},
     "output_type": "execute_result"
    }
   ],
   "source": [
    "my_f_1()"
   ]
  },
  {
   "cell_type": "code",
   "execution_count": 30,
   "metadata": {},
   "outputs": [],
   "source": [
    "def my_f_2(list_1=[4,-3,5,-2,-1,2,6,-2]): # complexity -> O(n^2)\n",
    "    s=0\n",
    "    n=len(list_1)\n",
    "    maxSum=0\n",
    "    for i in range(n):\n",
    "        t=0\n",
    "        for j in range(i,n):\n",
    "            t=t+list_1[j]\n",
    "            s=s+1\n",
    "            if t>maxSum:\n",
    "                maxSum=t\n",
    "    return maxSum,s"
   ]
  },
  {
   "cell_type": "code",
   "execution_count": 31,
   "metadata": {},
   "outputs": [
    {
     "data": {
      "text/plain": [
       "(11, 36)"
      ]
     },
     "execution_count": 31,
     "metadata": {},
     "output_type": "execute_result"
    }
   ],
   "source": [
    "my_f_2()"
   ]
  },
  {
   "cell_type": "code",
   "execution_count": 32,
   "metadata": {},
   "outputs": [
    {
     "data": {
      "text/plain": [
       "10"
      ]
     },
     "execution_count": 32,
     "metadata": {},
     "output_type": "execute_result"
    }
   ],
   "source": [
    "def max_of_two(a,b): # complexity -> O(1)\n",
    "    if a>b:\n",
    "        return a\n",
    "    else:\n",
    "        return b\n",
    "def max_of_three(a,b,c): # complexity -> O(1)\n",
    "    return (max_of_two(a,max_of_two(b,c)))\n",
    "\n",
    "max_of_three(1,4,10)"
   ]
  },
  {
   "cell_type": "code",
   "execution_count": 33,
   "metadata": {},
   "outputs": [],
   "source": [
    "#diziyi ikiye bölerek max alt diziyi bulma\n",
    "def my_f_3(List_1=[4,-3,5,-2,-1,2,6,-2]): # complexity -> O(nlogn)\n",
    "    \n",
    "    n=len(List_1)\n",
    "    \n",
    "    \n",
    "    if n==1:\n",
    "        return List_1[0]\n",
    "    else:\n",
    "        left_list=List_1[0:n//2]\n",
    "        right_list=List_1[n//2:n]\n",
    "        \n",
    "        left_sum=my_f_3(left_list)\n",
    "        right_sum=my_f_3(right_list)\n",
    "        \n",
    "        center_sum=0\n",
    "        temp_sum_left=0\n",
    "        t=0\n",
    "        for i in range(n//2-1,-1,-1):\n",
    "            t=t+List_1[i]\n",
    "            if t>temp_sum_left:\n",
    "                temp_sum_left=t\n",
    "        t=0\n",
    "        temp_sum_right=0\n",
    "        for i in range(n//2,n):\n",
    "            t=t+List_1[i]\n",
    "            if t>temp_sum_right:\n",
    "                temp_sum_right=t\n",
    "        center_sum=temp_sum_left+temp_sum_right\n",
    "        return max_of_three(left_sum,right_sum,center_sum)"
   ]
  },
  {
   "cell_type": "code",
   "execution_count": 34,
   "metadata": {},
   "outputs": [
    {
     "data": {
      "text/plain": [
       "11"
      ]
     },
     "execution_count": 34,
     "metadata": {},
     "output_type": "execute_result"
    }
   ],
   "source": [
    "my_f_3()"
   ]
  }
 ],
 "metadata": {
  "kernelspec": {
   "display_name": "Python 3",
   "language": "python",
   "name": "python3"
  },
  "language_info": {
   "codemirror_mode": {
    "name": "ipython",
    "version": 3
   },
   "file_extension": ".py",
   "mimetype": "text/x-python",
   "name": "python",
   "nbconvert_exporter": "python",
   "pygments_lexer": "ipython3",
   "version": "3.7.6"
  }
 },
 "nbformat": 4,
 "nbformat_minor": 4
}
